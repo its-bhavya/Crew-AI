{
 "cells": [
  {
   "cell_type": "code",
   "execution_count": 1,
   "id": "bd15e110",
   "metadata": {},
   "outputs": [],
   "source": [
    "import warnings\n",
    "warnings.filterwarnings('ignore')"
   ]
  },
  {
   "cell_type": "code",
   "execution_count": 2,
   "id": "b9ea8bf5",
   "metadata": {},
   "outputs": [],
   "source": [
    "from crewai import Agent, Task, Crew, LLM"
   ]
  },
  {
   "cell_type": "code",
   "execution_count": 3,
   "id": "449663a0",
   "metadata": {},
   "outputs": [],
   "source": [
    "import os\n",
    "from dotenv import load_dotenv\n",
    "load_dotenv()\n",
    "\n",
    "gemini_api_key=os.environ.get(\"GEMINI_API_KEY\")\n",
    "\n",
    "gemini_llm = LLM(\n",
    "    model='gemini/gemini-2.0-flash',\n",
    "    api_key=gemini_api_key,\n",
    "    temperature=0.0\n",
    ")"
   ]
  },
  {
   "cell_type": "code",
   "execution_count": 4,
   "id": "2f633b2a",
   "metadata": {},
   "outputs": [],
   "source": [
    "support_agent = Agent(\n",
    "    role=\"Senior Support Representative\",\n",
    "    goal=\"Be friendly and helpful\"\n",
    "    \"Support representative in your team\",\n",
    "    backstory=(\n",
    "        \"You work at crewAI (https://crewai.com) and\"\n",
    "        \"are now working on providing support to {customer}, a super important customer for your company.\"\n",
    "        \"You need to make sure that you provide the best support!\"\n",
    "\t\t\"Make sure to provide full complete answers, \"\n",
    "        \" and make no assumptions.\"\n",
    "    ),\n",
    "    allow_delegation=False,\n",
    "    verbose=True,\n",
    "    llm=gemini_llm\n",
    "    \n",
    ")"
   ]
  },
  {
   "cell_type": "code",
   "execution_count": null,
   "id": "9c401e8b",
   "metadata": {},
   "outputs": [],
   "source": [
    "support_quality_assurance_agent = Agent(\n",
    "\trole=\"Support Quality Assurance Specialist\",\n",
    "\tgoal=\"Get recognition for providing the \"\n",
    "    \"best support quality assurance in your team\",\n",
    "\tbackstory=(\n",
    "\t\t\"You work at crewAI (https://crewai.com) and \"\n",
    "        \"are now working with your team \"\n",
    "\t\t\"on a request from {customer} ensuring that \"\n",
    "        \"the support representative is \"\n",
    "\t\t\"providing the best support possible.\\n\"\n",
    "\t\t\"You need to make sure that the support representative \"\n",
    "        \"is providing full\"\n",
    "\t\t\"complete answers, and make no assumptions.\"\n",
    "\t),\n",
    "\tverbose=True,\n",
    "    llm=gemini_llm\n",
    ")"
   ]
  },
  {
   "cell_type": "code",
   "execution_count": null,
   "id": "b50c2df5",
   "metadata": {},
   "outputs": [],
   "source": []
  }
 ],
 "metadata": {
  "kernelspec": {
   "display_name": ".venv",
   "language": "python",
   "name": "python3"
  },
  "language_info": {
   "codemirror_mode": {
    "name": "ipython",
    "version": 3
   },
   "file_extension": ".py",
   "mimetype": "text/x-python",
   "name": "python",
   "nbconvert_exporter": "python",
   "pygments_lexer": "ipython3",
   "version": "3.12.8"
  }
 },
 "nbformat": 4,
 "nbformat_minor": 5
}
